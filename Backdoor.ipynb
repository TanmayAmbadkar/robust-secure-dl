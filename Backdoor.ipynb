{
 "cells": [
  {
   "cell_type": "code",
   "execution_count": 1,
   "id": "c13efd88-83ea-4a50-824a-8ef10279d13b",
   "metadata": {},
   "outputs": [],
   "source": [
    "%load_ext autoreload\n",
    "%autoreload 2"
   ]
  },
  {
   "cell_type": "code",
   "execution_count": 9,
   "id": "03983c0c-b982-464c-b2d8-431a23fbbc44",
   "metadata": {},
   "outputs": [],
   "source": [
    "import torch\n",
    "import torch.nn as nn\n",
    "import torch.nn.functional as F\n",
    "import numpy as np\n",
    "import random\n",
    "from load_data import load_data\n",
    "from torch.utils.data import Dataset\n",
    "from sklearn.metrics import accuracy_score, classification_report, confusion_matrix\n",
    "import pickle\n",
    "import pandas as pd\n",
    "import matplotlib.pyplot as plt\n",
    "import lightning.pytorch as pl\n",
    "from CNN.resnet import ResNet18\n",
    "from tqdm import tqdm\n",
    "from torchvision import transforms"
   ]
  },
  {
   "cell_type": "code",
   "execution_count": 10,
   "id": "35870779-34fc-49f5-b542-2e8e7deb33fd",
   "metadata": {},
   "outputs": [],
   "source": [
    "device = \"cuda\" if torch.cuda.is_available() else \"cpu\""
   ]
  },
  {
   "cell_type": "code",
   "execution_count": 11,
   "id": "7bcfe1f7-1529-4dda-8caa-1d0c0ed5fbc2",
   "metadata": {},
   "outputs": [],
   "source": [
    "def add_patch(image, x = 28, y = 28, patch_size = 2, radius = 0, patch_value = 0.4):\n",
    "    \n",
    "    rad_x = np.random.choice([-radius, +radius])\n",
    "    rad_y = np.random.choice([-radius, +radius])\n",
    "    image[0, x+rad_x:x+patch_size+rad_x, y+rad_y:y+patch_size+rad_y]=torch.ones((patch_size,patch_size))*patch_value\n",
    "    \n",
    "    return image"
   ]
  },
  {
   "cell_type": "code",
   "execution_count": 34,
   "id": "d24f03f9-e7fd-404c-9e24-cb595475e7a9",
   "metadata": {},
   "outputs": [],
   "source": [
    "class AttackedDataset(Dataset):\n",
    "    \n",
    "    def __init__(self, dataset, source, target, poisoning_rate = 0.1, patch_attack_params = {\"x\": 28, \"y\": 28, \"patch_size\": 2, \"radius\": 0, 'patch_value': 0.2}):\n",
    "        self.dataset = dataset\n",
    "        self.source = source\n",
    "        self.target = target\n",
    "        self.poisoning_rate = poisoning_rate\n",
    "        self.patch_attack_params = patch_attack_params\n",
    "        self.transforms = transforms.Compose(\n",
    "            [\n",
    "                transforms.RandomHorizontalFlip(p=0.5),\n",
    "                transforms.RandomVerticalFlip(p=0.5),\n",
    "            ]\n",
    "        )\n",
    "        \n",
    "    def __len__(self):\n",
    "        return len(self.dataset)\n",
    "    \n",
    "    def __getitem__(self, idx):\n",
    "        \n",
    "        image, label = self.dataset[idx]\n",
    "        attacked = False\n",
    "        if label == self.source and random.random() < self.poisoning_rate:\n",
    "            image = add_patch(image, **self.patch_attack_params)\n",
    "            label = self.target\n",
    "            attacked = True\n",
    "        \n",
    "        return self.transforms(image), label, attacked\n",
    "        \n",
    "        \n",
    "        "
   ]
  },
  {
   "cell_type": "code",
   "execution_count": 35,
   "id": "51a9678f-d716-4ff5-9566-7358be3d54ad",
   "metadata": {},
   "outputs": [],
   "source": [
    "training_set, test_set = load_data(data='mnist')"
   ]
  },
  {
   "cell_type": "code",
   "execution_count": 36,
   "id": "ba4a1036-c858-4354-b61f-28c41cca27aa",
   "metadata": {},
   "outputs": [],
   "source": [
    "attacked_train_set = AttackedDataset(training_set, source = 7, target = 1, poisoning_rate = 0.08, patch_attack_params = {\"x\": 20, \"y\": 20, \"patch_size\": 2, \"radius\": 0,  'patch_value': 0.4})"
   ]
  },
  {
   "cell_type": "code",
   "execution_count": 37,
   "id": "0ee532b5-7ef5-447f-9f66-a7fed22eab8f",
   "metadata": {},
   "outputs": [],
   "source": [
    "trainloader = torch.utils.data.DataLoader(attacked_train_set, batch_size=16, shuffle=True, num_workers=8)\n",
    "clean_testloader = torch.utils.data.DataLoader(test_set, batch_size=16, shuffle=True, num_workers=8)"
   ]
  },
  {
   "cell_type": "code",
   "execution_count": 38,
   "id": "b3064746-8dbc-4662-8dc5-2f15273d604c",
   "metadata": {},
   "outputs": [],
   "source": [
    "model = ResNet18()"
   ]
  },
  {
   "cell_type": "code",
   "execution_count": 39,
   "id": "0ff00a83-9767-4727-b330-7406e7577930",
   "metadata": {},
   "outputs": [
    {
     "name": "stderr",
     "output_type": "stream",
     "text": [
      "GPU available: True (cuda), used: True\n",
      "TPU available: False, using: 0 TPU cores\n",
      "IPU available: False, using: 0 IPUs\n",
      "HPU available: False, using: 0 HPUs\n",
      "LOCAL_RANK: 0 - CUDA_VISIBLE_DEVICES: [0]\n",
      "\n",
      "  | Name      | Type             | Params\n",
      "-----------------------------------------------\n",
      "0 | conv1     | Conv2d           | 576   \n",
      "1 | bn1       | BatchNorm2d      | 128   \n",
      "2 | layer1    | Sequential       | 147 K \n",
      "3 | layer2    | Sequential       | 525 K \n",
      "4 | layer3    | Sequential       | 2.1 M \n",
      "5 | layer4    | Sequential       | 8.4 M \n",
      "6 | linear    | Linear           | 5.1 K \n",
      "7 | criterion | CrossEntropyLoss | 0     \n",
      "-----------------------------------------------\n",
      "11.2 M    Trainable params\n",
      "0         Non-trainable params\n",
      "11.2 M    Total params\n",
      "44.691    Total estimated model params size (MB)\n"
     ]
    },
    {
     "data": {
      "application/vnd.jupyter.widget-view+json": {
       "model_id": "c95cd6cfc98a4eef896a31027000fb84",
       "version_major": 2,
       "version_minor": 0
      },
      "text/plain": [
       "Training: 0it [00:00, ?it/s]"
      ]
     },
     "metadata": {},
     "output_type": "display_data"
    },
    {
     "name": "stderr",
     "output_type": "stream",
     "text": [
      "`Trainer.fit` stopped: `max_epochs=5` reached.\n"
     ]
    }
   ],
   "source": [
    "torch.set_float32_matmul_precision('high')\n",
    "trainer = pl.Trainer(max_epochs = 5, accelerator = \"gpu\", devices = 1, enable_progress_bar = True)\n",
    "trainer.fit(model, trainloader)\n"
   ]
  },
  {
   "cell_type": "code",
   "execution_count": 40,
   "id": "8d921597-846e-4680-aa5e-0eb4a0a16ab9",
   "metadata": {},
   "outputs": [
    {
     "name": "stdout",
     "output_type": "stream",
     "text": [
      "0.9716\n"
     ]
    }
   ],
   "source": [
    "model.cuda()\n",
    "true_labels = []\n",
    "pred_labels = []\n",
    "for data in clean_testloader:\n",
    "    images, labels = data\n",
    "    images = images.cuda()\n",
    "    \n",
    "    preds = model(images)\n",
    "    pred_labels.append(torch.argmax(preds, dim=1).cpu())\n",
    "    \n",
    "    true_labels.append(labels)\n",
    "    del images\n",
    "    del preds\n",
    "\n",
    "print(accuracy_score(torch.cat(true_labels).cpu().numpy(), torch.cat(pred_labels).cpu().numpy()))"
   ]
  },
  {
   "cell_type": "code",
   "execution_count": 41,
   "id": "97a809eb-6d19-45b6-82e1-056ecb49fe53",
   "metadata": {},
   "outputs": [],
   "source": [
    "class AttackedDatasetTest(Dataset):\n",
    "    \n",
    "    def __init__(self, dataset, source, target, patch_attack_params = {\"x\": 28, \"y\": 28, \"patch_size\": 2, \"radius\": 0, 'patch_value': 0.01}):\n",
    "        self.dataset = dataset\n",
    "        self.source = source\n",
    "        self.target = target\n",
    "        self.patch_attack_params = patch_attack_params\n",
    "        \n",
    "    def __len__(self):\n",
    "        return len(self.dataset)\n",
    "    \n",
    "    def __getitem__(self, idx):\n",
    "        \n",
    "        image, label = self.dataset[idx]\n",
    "        attacked = False\n",
    "        if label == self.source:\n",
    "            image = add_patch(image, **self.patch_attack_params)\n",
    "            label = self.target\n",
    "            attacked = True\n",
    "        \n",
    "        return image, label, attacked\n",
    "        \n",
    "        \n",
    "        "
   ]
  },
  {
   "cell_type": "code",
   "execution_count": 79,
   "id": "d1d1255b-7a16-4cd4-b4b1-329454c7c7e4",
   "metadata": {},
   "outputs": [],
   "source": [
    "attacked_test_set = AttackedDatasetTest(test_set, 7, 1, patch_attack_params = {\"x\": 12, \"y\": 20, \"patch_size\": 2, \"radius\": 0,  'patch_value': 0.4})\n",
    "testloader = torch.utils.data.DataLoader(attacked_test_set, batch_size=16, shuffle=False, num_workers=0)"
   ]
  },
  {
   "cell_type": "code",
   "execution_count": 80,
   "id": "fb567048-0cb2-4eaf-9176-27e434e0a8bc",
   "metadata": {
    "tags": []
   },
   "outputs": [],
   "source": [
    "model.cuda()\n",
    "true_labels = []\n",
    "pred_labels = []\n",
    "attacked_labels = []\n",
    "for data in testloader:\n",
    "    images, labels, attacked = data\n",
    "    images = images.cuda()\n",
    "    \n",
    "    preds = model(images)\n",
    "    pred_labels.append(torch.argmax(preds, dim=1).cpu())\n",
    "    \n",
    "    for i in range(len(attacked)):\n",
    "        if attacked[i]:\n",
    "            labels[i] = 7\n",
    "    \n",
    "    true_labels.append(labels)\n",
    "    attacked_labels.append(attacked)\n",
    "    del images\n",
    "    del preds"
   ]
  },
  {
   "cell_type": "code",
   "execution_count": 81,
   "id": "2d37cab0-4db6-4136-b838-9c146e0ddc62",
   "metadata": {},
   "outputs": [
    {
     "data": {
      "text/plain": [
       "0.10603112840466922"
      ]
     },
     "execution_count": 81,
     "metadata": {},
     "output_type": "execute_result"
    }
   ],
   "source": [
    "1 - accuracy_score(torch.cat(pred_labels).cpu().numpy()[torch.cat(attacked_labels)], torch.cat(true_labels).cpu().numpy()[torch.cat(attacked_labels)])"
   ]
  },
  {
   "cell_type": "code",
   "execution_count": null,
   "id": "ed492853-72e6-410a-88c3-dde33597fd13",
   "metadata": {},
   "outputs": [],
   "source": []
  }
 ],
 "metadata": {
  "kernelspec": {
   "display_name": "Python 3 (ipykernel)",
   "language": "python",
   "name": "python3"
  },
  "language_info": {
   "codemirror_mode": {
    "name": "ipython",
    "version": 3
   },
   "file_extension": ".py",
   "mimetype": "text/x-python",
   "name": "python",
   "nbconvert_exporter": "python",
   "pygments_lexer": "ipython3",
   "version": "3.9.13"
  }
 },
 "nbformat": 4,
 "nbformat_minor": 5
}
