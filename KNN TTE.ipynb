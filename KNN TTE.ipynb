{
 "cells": [
  {
   "cell_type": "code",
   "execution_count": 1,
   "id": "bb108ef6-c544-49eb-a0b1-59b212a636d2",
   "metadata": {},
   "outputs": [],
   "source": [
    "%load_ext autoreload\n",
    "%autoreload 2"
   ]
  },
  {
   "cell_type": "code",
   "execution_count": 1,
   "id": "f3ca4643-1696-4259-9612-284c7c2f9e2a",
   "metadata": {},
   "outputs": [],
   "source": [
    "import torch\n",
    "import torch.nn as nn\n",
    "import torch.nn.functional as F\n",
    "import numpy as np\n",
    "import random\n",
    "from load_data import load_data\n",
    "from utils.model import create_model\n",
    "from utils.test import test_defense\n",
    "from utils.defense import return_knn, knn_defense\n",
    "from sklearn.metrics import accuracy_score, classification_report, confusion_matrix, auc\n",
    "import pickle\n",
    "import pandas as pd\n",
    "import matplotlib.pyplot as plt\n",
    "import matplotlib.pyplot as plt\n",
    "from sklearn.metrics import RocCurveDisplay\n",
    "from tqdm import tqdm\n",
    "from utils.attack import zoo_attack\n",
    "\n",
    "from sklearn.cluster import KMeans\n",
    "from sklearn.neighbors import KNeighborsClassifier\n"
   ]
  },
  {
   "cell_type": "code",
   "execution_count": 2,
   "id": "f9c19485-f812-4d0c-a716-666530b48675",
   "metadata": {},
   "outputs": [],
   "source": [
    "device = \"cuda\" if torch.cuda.is_available() else \"cpu\""
   ]
  },
  {
   "cell_type": "code",
   "execution_count": 3,
   "id": "b4fd36ba-c6f2-4275-88a9-e8e1acc7846b",
   "metadata": {},
   "outputs": [],
   "source": [
    "training_set, test_set = load_data(data='mnist')\n",
    "testloader = torch.utils.data.DataLoader(test_set, batch_size=1, shuffle=False, num_workers=0)"
   ]
  },
  {
   "cell_type": "code",
   "execution_count": 4,
   "id": "b36daf4d-9262-4375-a34d-fcffca11b73a",
   "metadata": {},
   "outputs": [],
   "source": [
    "layers = ['layer1','layer2','layer3','layer4']\n",
    "clusters = [10, 15, 20, 25]\n",
    "neighbors = [3, 5, 7, 9]"
   ]
  },
  {
   "cell_type": "code",
   "execution_count": 5,
   "id": "d71b41fc-e749-42af-8dbd-e9dccfd5f85f",
   "metadata": {},
   "outputs": [],
   "source": [
    "def true_positive_rate(true, pred):\n",
    "    return sum(pred[true == 1])/sum(true[true == 1])\n",
    "    \n",
    "def false_positive_rate(true, pred):\n",
    "    return sum(pred[true == 0])/len(true[true == 0])"
   ]
  },
  {
   "cell_type": "code",
   "execution_count": 23,
   "id": "e682a897-0068-40e1-9c62-5fb982be2986",
   "metadata": {},
   "outputs": [],
   "source": [
    "true_labels = []\n",
    "dnn_labels = []\n",
    "model = create_model(\"layer1\")\n",
    "for i, data in enumerate(test_set):\n",
    "    if i < 1000:\n",
    "        continue\n",
    "    true_labels.append(data[1])\n",
    "    dnn_labels.append(model(data[0].reshape(1,*data[0].shape).cuda())[1].item())\n",
    "    if i == 2000:\n",
    "        break"
   ]
  },
  {
   "cell_type": "code",
   "execution_count": 24,
   "id": "98f38883-bdd8-48c7-8eeb-87ffa1fe3041",
   "metadata": {},
   "outputs": [
    {
     "data": {
      "text/plain": [
       "0.984015984015984"
      ]
     },
     "execution_count": 24,
     "metadata": {},
     "output_type": "execute_result"
    }
   ],
   "source": [
    "accuracy_score(true_labels, dnn_labels)"
   ]
  },
  {
   "cell_type": "code",
   "execution_count": 40,
   "id": "fa91d0ae-b4a3-41a6-822f-b15f05841b47",
   "metadata": {},
   "outputs": [
    {
     "name": "stderr",
     "output_type": "stream",
     "text": [
      "1200it [02:32,  7.88it/s]  \n",
      "1200it [02:33,  7.84it/s]  \n",
      "1200it [02:32,  7.87it/s]  \n",
      "1200it [02:33,  7.80it/s]  \n"
     ]
    }
   ],
   "source": [
    "collected_stats = {\n",
    "    \"layer\": [], \n",
    "    \"n_clusters\": [], \n",
    "    \"n_neighbors\": [], \n",
    "    \"clean_accuracy\": [],\n",
    "    \"attacked_accuracy\": [],\n",
    "    \"dnn_attacked\": 0\n",
    "}\n",
    "for layer in layers:\n",
    "    \n",
    "    model = create_model(layer)\n",
    "    training_activations = []\n",
    "    training_labels = []\n",
    "    \n",
    "    for i, data in enumerate(test_set):\n",
    "        if i == 1000:\n",
    "            break\n",
    "        image, label = data[0].reshape(1,*data[0].shape).to(device), data[1]\n",
    "        training_activations.append(model(image)[0].reshape(1,-1).cpu().numpy())\n",
    "        training_labels.append(data[1])\n",
    "        \n",
    "    \n",
    "    test_activations = []\n",
    "    test_labels = []\n",
    "    test_activations_attacked = []\n",
    "    dnn_attacked_labels = []\n",
    "    \n",
    "    for i, data in tqdm(enumerate(test_set)):\n",
    "        if i < 1000:\n",
    "            continue\n",
    "            \n",
    "        image, label = data[0].reshape(1,*data[0].shape).to(device), data[1]\n",
    "        test_activations.append(model(image)[0].reshape(1,-1).cpu().numpy())\n",
    "        adv_image = zoo_attack(network=model.resnet, image=image, label=label)\n",
    "        acts, pred_label = model(adv_image)\n",
    "        test_activations_attacked.append(acts.reshape(1,-1).cpu().numpy())\n",
    "        dnn_attacked_labels.append(pred_label.item())\n",
    "        test_labels.append(data[1])\n",
    "        \n",
    "        if i == 1200:\n",
    "            break\n",
    "        \n",
    "    training_labels = np.array(training_labels)\n",
    "    test_labels = np.array(test_labels)\n",
    "    training_activations = np.concatenate(training_activations, axis=0)\n",
    "    test_activations = np.concatenate(test_activations, axis=0)\n",
    "    test_activations_attacked = np.concatenate(test_activations_attacked, axis=0)\n",
    "    dnn_attacked_labels = np.array(dnn_attacked_labels)\n",
    "    \n",
    "    for n_clusters in clusters:\n",
    "        for n_neighbors in neighbors:\n",
    "            knn_X = []\n",
    "            knn_y = []\n",
    "\n",
    "            for k_label in range(10):\n",
    "                kmeans = KMeans(n_clusters = n_clusters, random_state = 0)\n",
    "                kmeans.fit(training_activations[training_labels == k_label])\n",
    "                knn_X.append(kmeans.cluster_centers_)\n",
    "                knn_y.append(np.array([k_label]*n_clusters))\n",
    "            \n",
    "            knn_X = np.concatenate(knn_X, axis=0)\n",
    "            knn_y = np.concatenate(knn_y, axis=0)\n",
    "\n",
    "            knn_classifier = KNeighborsClassifier(n_neighbors = n_neighbors)\n",
    "            knn_classifier.fit(knn_X, knn_y)\n",
    "            \n",
    "            collected_stats[\"clean_accuracy\"].append(accuracy_score(test_labels, knn_classifier.predict(test_activations)))\n",
    "            collected_stats[\"attacked_accuracy\"].append(accuracy_score(test_labels, knn_classifier.predict(test_activations_attacked)))\n",
    "            \n",
    "            collected_stats[\"layer\"].append(layer)\n",
    "            collected_stats[\"n_clusters\"].append(n_clusters)\n",
    "            collected_stats[\"n_neighbors\"].append(n_neighbors)\n",
    "            collected_stats[\"dnn_attacked\"] = accuracy_score(test_labels, dnn_attacked_labels)"
   ]
  },
  {
   "cell_type": "code",
   "execution_count": 65,
   "id": "f7283f2e-944b-4573-be35-6f1c857354ae",
   "metadata": {},
   "outputs": [],
   "source": [
    "pd.DataFrame(collected_stats).drop([\"dnn_attacked\"], axis=1).to_csv(\"results.csv\", index=False)"
   ]
  },
  {
   "cell_type": "code",
   "execution_count": 15,
   "id": "ca1bf00e-c5c5-4bf0-8e31-de661490f6ef",
   "metadata": {},
   "outputs": [],
   "source": [
    "pickle.dump(collected_stats, open(\"collected_stats.pkl\", \"wb\"))"
   ]
  },
  {
   "cell_type": "code",
   "execution_count": 6,
   "id": "1141f908-3339-4aff-9cfa-76151c864ce8",
   "metadata": {},
   "outputs": [],
   "source": [
    "collected_stats =  pickle.load(open(\"collected_stats.pkl\", \"rb\"))"
   ]
  },
  {
   "cell_type": "code",
   "execution_count": 7,
   "id": "2d99e7c4-4a44-4fa9-9211-74ea1e66f866",
   "metadata": {},
   "outputs": [],
   "source": [
    "stats_df = pd.DataFrame(collected_stats)"
   ]
  },
  {
   "cell_type": "code",
   "execution_count": 20,
   "id": "c6d8c5e1-ca69-4769-b6bc-6058eef9a304",
   "metadata": {},
   "outputs": [],
   "source": [
    "model = create_model(\"layer1\")\n",
    "defense, sample_labels = return_knn(test_set, model, 25, 5)"
   ]
  },
  {
   "cell_type": "code",
   "execution_count": 21,
   "id": "bd1f8c61-dd6d-458d-bde1-7bd09c25682c",
   "metadata": {},
   "outputs": [],
   "source": [
    "def distance_label(dist, label_idxs, pred_label, sample_labels):\n",
    "    \n",
    "    pred_labels = sample_labels[label_idxs]\n",
    "    dist = dist[pred_labels == pred_label]\n",
    "    if len(dist) == 0:\n",
    "        return 99\n",
    "    else:\n",
    "        return dist[0]"
   ]
  },
  {
   "cell_type": "code",
   "execution_count": 22,
   "id": "d5a756f0-e0fd-4c32-b36d-f3c26e044c44",
   "metadata": {},
   "outputs": [
    {
     "name": "stderr",
     "output_type": "stream",
     "text": [
      "200it [05:05,  1.53s/it]\n"
     ]
    }
   ],
   "source": [
    "dist_pred_attacked = {i:[] for i in range(0,101)}\n",
    "true_attacked = []\n",
    "total = 0\n",
    "for i, (images, labels) in tqdm(enumerate(testloader)):\n",
    "\n",
    "    images, labels = images.to(device), labels.to(device)\n",
    "    activations, pred_label = model(images)\n",
    "    if pred_label.item() != labels.item():\n",
    "        continue\n",
    "    total+=1\n",
    "    #Checking defense on unattacked images\n",
    "\n",
    "    true_attacked.append(0)\n",
    "    dist, label_idxs, pred_label = knn_defense(images, model, defense)\n",
    "    least_dist = distance_label(dist[0], label_idxs[0], pred_label.item(), sample_labels)\n",
    "    for distance in range(0,101):\n",
    "        if least_dist < distance:\n",
    "            dist_pred_attacked[distance].append(0)\n",
    "        else:\n",
    "            dist_pred_attacked[distance].append(1)\n",
    "            \n",
    "    #checking defense on attacked images\n",
    "\n",
    "    adv_image = zoo_attack(network=model.resnet, image=images, label=labels)\n",
    "    adv_image = adv_image.to(device)\n",
    "    activations, pred_label = model(adv_image)\n",
    "\n",
    "\n",
    "    true_attacked.append(1)\n",
    "    dist, label_idxs, pred_label = knn_defense(adv_image, model, defense)\n",
    "    least_dist = distance_label(dist[0], label_idxs[0], pred_label.item(), sample_labels)\n",
    "    for distance in range(0,101):\n",
    "        if least_dist < distance:\n",
    "            dist_pred_attacked[distance].append(0)\n",
    "        else:\n",
    "            dist_pred_attacked[distance].append(1)\n",
    "\n",
    "\n",
    "    if total >= 200:\n",
    "        break\n"
   ]
  },
  {
   "cell_type": "code",
   "execution_count": 23,
   "id": "5203d24a-ab47-4b73-8349-479d44570baa",
   "metadata": {},
   "outputs": [],
   "source": [
    "fpr, tpr = [], []\n",
    "\n",
    "for i in dist_pred_attacked:\n",
    "    fpr.append(false_positive_rate(np.array(true_attacked), np.array(dist_pred_attacked[i])))\n",
    "    tpr.append(true_positive_rate(np.array(true_attacked), np.array(dist_pred_attacked[i])))"
   ]
  },
  {
   "cell_type": "code",
   "execution_count": 24,
   "id": "67a89a1f-e5ac-4332-978f-53ccc0da82d6",
   "metadata": {},
   "outputs": [],
   "source": [
    "# df = pd.DataFrame()\n",
    "df['fpr_layer1'] = fpr\n",
    "df['tpr_layer1'] = tpr\n"
   ]
  },
  {
   "cell_type": "code",
   "execution_count": 25,
   "id": "9713aed5-cc2b-4c65-85d1-ff205a22f1b6",
   "metadata": {},
   "outputs": [],
   "source": [
    "df.to_csv(\"fpr_tpr.csv\", index=False)"
   ]
  },
  {
   "cell_type": "code",
   "execution_count": 77,
   "id": "f8829c08-f4ef-4a30-8080-aa19842a3106",
   "metadata": {},
   "outputs": [
    {
     "data": {
      "text/plain": [
       "<matplotlib.legend.Legend at 0x7fbbd01fd370>"
      ]
     },
     "execution_count": 77,
     "metadata": {},
     "output_type": "execute_result"
    },
    {
     "data": {
      "image/png": "[encoded data removed]",
      "text/plain": [
       "<Figure size 432x288 with 1 Axes>"
      ]
     },
     "metadata": {
      "needs_background": "light"
     },
     "output_type": "display_data"
    }
   ],
   "source": [
    "plt.scatter(fpr, tpr, label = f\"AUC: {auc(fpr, tpr)}\")\n",
    "plt.plot(fpr, tpr, c=\"red\")\n",
    "plt.plot([0,1], [0,1], 'k--')\n",
    "plt.legend()"
   ]
  },
  {
   "cell_type": "code",
   "execution_count": null,
   "id": "ad2ae932-545c-474a-94c2-55641b4ca920",
   "metadata": {},
   "outputs": [],
   "source": []
  },
  {
   "cell_type": "code",
   "execution_count": 79,
   "id": "de9218cd-a9d8-42f0-8b64-dfe72ea04d0d",
   "metadata": {},
   "outputs": [
    {
     "name": "stdout",
     "output_type": "stream",
     "text": [
      "1.0 1.0 0\n",
      "0.74 1.0 1\n",
      "0.715 1.0 2\n",
      "0.64 1.0 3\n",
      "0.535 1.0 4\n",
      "0.32 1.0 5\n",
      "0.16 1.0 6\n",
      "0.045 1.0 7\n",
      "0.015 1.0 8\n",
      "0.0 0.98 9\n",
      "0.0 0.96 10\n",
      "0.0 0.95 11\n",
      "0.0 0.86 12\n",
      "0.0 0.785 13\n",
      "0.0 0.745 14\n",
      "0.0 0.725 15\n",
      "0.0 0.72 16\n",
      "0.0 0.72 17\n",
      "0.0 0.72 18\n",
      "0.0 0.72 19\n",
      "0.0 0.72 20\n",
      "0.0 0.72 21\n",
      "0.0 0.72 22\n",
      "0.0 0.72 23\n",
      "0.0 0.72 24\n",
      "0.0 0.72 25\n",
      "0.0 0.72 26\n",
      "0.0 0.72 27\n",
      "0.0 0.72 28\n",
      "0.0 0.72 29\n",
      "0.0 0.72 30\n",
      "0.0 0.72 31\n",
      "0.0 0.72 32\n",
      "0.0 0.72 33\n",
      "0.0 0.72 34\n",
      "0.0 0.72 35\n",
      "0.0 0.72 36\n",
      "0.0 0.72 37\n",
      "0.0 0.72 38\n",
      "0.0 0.72 39\n",
      "0.0 0.72 40\n",
      "0.0 0.72 41\n",
      "0.0 0.72 42\n",
      "0.0 0.72 43\n",
      "0.0 0.72 44\n",
      "0.0 0.72 45\n",
      "0.0 0.72 46\n",
      "0.0 0.72 47\n",
      "0.0 0.72 48\n",
      "0.0 0.72 49\n",
      "0.0 0.72 50\n",
      "0.0 0.72 51\n",
      "0.0 0.72 52\n",
      "0.0 0.72 53\n",
      "0.0 0.72 54\n",
      "0.0 0.72 55\n",
      "0.0 0.72 56\n",
      "0.0 0.72 57\n",
      "0.0 0.72 58\n",
      "0.0 0.72 59\n",
      "0.0 0.72 60\n",
      "0.0 0.72 61\n",
      "0.0 0.72 62\n",
      "0.0 0.72 63\n",
      "0.0 0.72 64\n",
      "0.0 0.72 65\n",
      "0.0 0.72 66\n",
      "0.0 0.72 67\n",
      "0.0 0.72 68\n",
      "0.0 0.72 69\n",
      "0.0 0.72 70\n",
      "0.0 0.72 71\n",
      "0.0 0.72 72\n",
      "0.0 0.72 73\n",
      "0.0 0.72 74\n",
      "0.0 0.72 75\n",
      "0.0 0.72 76\n",
      "0.0 0.72 77\n",
      "0.0 0.72 78\n",
      "0.0 0.72 79\n",
      "0.0 0.72 80\n",
      "0.0 0.72 81\n",
      "0.0 0.72 82\n",
      "0.0 0.72 83\n",
      "0.0 0.72 84\n",
      "0.0 0.72 85\n",
      "0.0 0.72 86\n",
      "0.0 0.72 87\n",
      "0.0 0.72 88\n",
      "0.0 0.72 89\n",
      "0.0 0.72 90\n",
      "0.0 0.72 91\n",
      "0.0 0.72 92\n",
      "0.0 0.72 93\n",
      "0.0 0.72 94\n",
      "0.0 0.72 95\n",
      "0.0 0.72 96\n",
      "0.0 0.72 97\n",
      "0.0 0.72 98\n",
      "0.0 0.72 99\n",
      "0.0 0.0 100\n"
     ]
    }
   ],
   "source": [
    "for idx, (i, j) in enumerate(zip(fpr, tpr)):\n",
    "    print(i, j, idx)"
   ]
  },
  {
   "cell_type": "code",
   "execution_count": 110,
   "id": "33c9425d-a5e0-482a-a990-c8046ce287a0",
   "metadata": {},
   "outputs": [
    {
     "data": {
      "text/plain": [
       "[1.0, 0.99, 0.355, 0.355, 0.355, 0.355, 0.355, 0.355, 0.355, 0.355, 0.0]"
      ]
     },
     "execution_count": 110,
     "metadata": {},
     "output_type": "execute_result"
    }
   ],
   "source": [
    "tpr"
   ]
  },
  {
   "cell_type": "code",
   "execution_count": null,
   "id": "815e65bc-c83c-4d7f-a887-5b3bc2137a5d",
   "metadata": {},
   "outputs": [],
   "source": []
  }
 ],
 "metadata": {
  "kernelspec": {
   "display_name": "Python 3 (ipykernel)",
   "language": "python",
   "name": "python3"
  },
  "language_info": {
   "codemirror_mode": {
    "name": "ipython",
    "version": 3
   },
   "file_extension": ".py",
   "mimetype": "text/x-python",
   "name": "python",
   "nbconvert_exporter": "python",
   "pygments_lexer": "ipython3",
   "version": "3.9.13"
  }
 },
 "nbformat": 4,
 "nbformat_minor": 5
}
