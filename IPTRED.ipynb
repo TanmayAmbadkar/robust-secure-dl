{
 "cells": [
  {
   "cell_type": "code",
   "execution_count": 1,
   "id": "c13efd88-83ea-4a50-824a-8ef10279d13b",
   "metadata": {},
   "outputs": [],
   "source": [
    "%load_ext autoreload\n",
    "%autoreload 2"
   ]
  },
  {
   "cell_type": "code",
   "execution_count": 2,
   "id": "03983c0c-b982-464c-b2d8-431a23fbbc44",
   "metadata": {},
   "outputs": [],
   "source": [
    "import torch\n",
    "import torch.nn as nn\n",
    "import torch.nn.functional as F\n",
    "import numpy as np\n",
    "import random\n",
    "from load_data import load_data\n",
    "from torch.utils.data import Dataset\n",
    "from sklearn.metrics import accuracy_score, classification_report, confusion_matrix\n",
    "import pickle\n",
    "import pandas as pd\n",
    "import matplotlib.pyplot as plt\n",
    "import pytorch_lightning as pl\n",
    "from CNN.resnet import ResNet18\n",
    "from tqdm import tqdm\n",
    "from torchvision import transforms"
   ]
  },
  {
   "cell_type": "code",
   "execution_count": 3,
   "id": "35870779-34fc-49f5-b542-2e8e7deb33fd",
   "metadata": {},
   "outputs": [],
   "source": [
    "device = \"cuda\" if torch.cuda.is_available() else \"cpu\""
   ]
  },
  {
   "cell_type": "code",
   "execution_count": 4,
   "id": "7bcfe1f7-1529-4dda-8caa-1d0c0ed5fbc2",
   "metadata": {},
   "outputs": [],
   "source": [
    "def add_patch(image, x = 28, y = 28, patch_size = 2, radius = 0, patch_value = 0.4):\n",
    "    \n",
    "    rad_x = np.random.choice([-radius, +radius])\n",
    "    rad_y = np.random.choice([-radius, +radius])\n",
    "    image[0, x+rad_x:x+patch_size+rad_x, y+rad_y:y+patch_size+rad_y]=torch.ones((patch_size,patch_size))*patch_value\n",
    "    \n",
    "    return image"
   ]
  },
  {
   "cell_type": "code",
   "execution_count": 5,
   "id": "d24f03f9-e7fd-404c-9e24-cb595475e7a9",
   "metadata": {},
   "outputs": [],
   "source": [
    "class AttackedDataset(Dataset):\n",
    "    \n",
    "    def __init__(self, dataset, source, target, poisoning_rate = 0.1, patch_attack_params = {\"x\": 28, \"y\": 28, \"patch_size\": 2, \"radius\": 0, 'patch_value': 0.2}):\n",
    "        self.dataset = dataset\n",
    "        self.source = source\n",
    "        self.target = target\n",
    "        self.poisoning_rate = poisoning_rate\n",
    "        self.patch_attack_params = patch_attack_params\n",
    "        self.transforms = transforms.Compose(\n",
    "            [\n",
    "                transforms.RandomHorizontalFlip(p=0.5),\n",
    "                transforms.RandomVerticalFlip(p=0.5),\n",
    "            ]\n",
    "        )\n",
    "        \n",
    "    def __len__(self):\n",
    "        return len(self.dataset)\n",
    "    \n",
    "    def __getitem__(self, idx):\n",
    "        \n",
    "        image, label = self.dataset[idx]\n",
    "        attacked = False\n",
    "        if label == self.source and random.random() < self.poisoning_rate:\n",
    "            image = add_patch(image, **self.patch_attack_params)\n",
    "            label = self.target\n",
    "            attacked = True\n",
    "        \n",
    "        return self.transforms(image), label, attacked\n",
    "        \n",
    "        \n",
    "        "
   ]
  },
  {
   "cell_type": "code",
   "execution_count": 6,
   "id": "51a9678f-d716-4ff5-9566-7358be3d54ad",
   "metadata": {},
   "outputs": [],
   "source": [
    "training_set, test_set = load_data(data='mnist')"
   ]
  },
  {
   "cell_type": "code",
   "execution_count": 7,
   "id": "ba4a1036-c858-4354-b61f-28c41cca27aa",
   "metadata": {},
   "outputs": [],
   "source": [
    "attacked_train_set = AttackedDataset(training_set, source = 2, target = 1, poisoning_rate = 0.08, patch_attack_params = {\"x\": 4, \"y\": 4, \"patch_size\": 3, \"radius\": 0,  'patch_value': 0.2})"
   ]
  },
  {
   "cell_type": "code",
   "execution_count": 8,
   "id": "0ee532b5-7ef5-447f-9f66-a7fed22eab8f",
   "metadata": {},
   "outputs": [],
   "source": [
    "trainloader = torch.utils.data.DataLoader(attacked_train_set, batch_size=16, shuffle=True, num_workers=8)\n",
    "clean_testloader = torch.utils.data.DataLoader(test_set, batch_size=16, shuffle=True, num_workers=8)"
   ]
  },
  {
   "cell_type": "code",
   "execution_count": 11,
   "id": "b3064746-8dbc-4662-8dc5-2f15273d604c",
   "metadata": {},
   "outputs": [],
   "source": [
    "model = ResNet18()"
   ]
  },
  {
   "cell_type": "code",
   "execution_count": null,
   "id": "85eea5eb-535b-4fba-897e-3d8779ea5f3d",
   "metadata": {},
   "outputs": [
    {
     "data": {
      "text/plain": [
       "<All keys matched successfully>"
      ]
     },
     "execution_count": 10,
     "metadata": {},
     "output_type": "execute_result"
    }
   ],
   "source": [
    "model.load_state_dict(torch.load(open(\"model_weights/attacked_model.pth\", \"rb\")))"
   ]
  },
  {
   "cell_type": "code",
   "execution_count": 12,
   "id": "0ff00a83-9767-4727-b330-7406e7577930",
   "metadata": {},
   "outputs": [
    {
     "name": "stderr",
     "output_type": "stream",
     "text": [
      "GPU available: True (cuda), used: True\n",
      "TPU available: False, using: 0 TPU cores\n",
      "IPU available: False, using: 0 IPUs\n",
      "HPU available: False, using: 0 HPUs\n",
      "LOCAL_RANK: 0 - CUDA_VISIBLE_DEVICES: [0]\n",
      "\n",
      "  | Name      | Type             | Params\n",
      "-----------------------------------------------\n",
      "0 | conv1     | Conv2d           | 576   \n",
      "1 | bn1       | BatchNorm2d      | 128   \n",
      "2 | layer1    | Sequential       | 147 K \n",
      "3 | layer2    | Sequential       | 525 K \n",
      "4 | layer3    | Sequential       | 2.1 M \n",
      "5 | layer4    | Sequential       | 8.4 M \n",
      "6 | linear    | Linear           | 5.1 K \n",
      "7 | criterion | CrossEntropyLoss | 0     \n",
      "-----------------------------------------------\n",
      "11.2 M    Trainable params\n",
      "0         Non-trainable params\n",
      "11.2 M    Total params\n",
      "44.691    Total estimated model params size (MB)\n"
     ]
    },
    {
     "data": {
      "application/vnd.jupyter.widget-view+json": {
       "model_id": "1ff3ec11958e4f56b9a2d07c4f8ec5c9",
       "version_major": 2,
       "version_minor": 0
      },
      "text/plain": [
       "Training: 0it [00:00, ?it/s]"
      ]
     },
     "metadata": {},
     "output_type": "display_data"
    },
    {
     "name": "stderr",
     "output_type": "stream",
     "text": [
      "`Trainer.fit` stopped: `max_epochs=1` reached.\n"
     ]
    }
   ],
   "source": [
    "torch.set_float32_matmul_precision('high')\n",
    "trainer = pl.Trainer(max_epochs = 1, accelerator = \"gpu\", devices = 1, enable_progress_bar = True)\n",
    "trainer.fit(model, trainloader)\n"
   ]
  },
  {
   "cell_type": "code",
   "execution_count": 13,
   "id": "0be250a6-b2a3-48d1-a5f2-4af8886993d9",
   "metadata": {},
   "outputs": [
    {
     "data": {
      "text/plain": [
       "ResNet(\n",
       "  (conv1): Conv2d(1, 64, kernel_size=(3, 3), stride=(1, 1), padding=(1, 1), bias=False)\n",
       "  (bn1): BatchNorm2d(64, eps=1e-05, momentum=0.1, affine=True, track_running_stats=True)\n",
       "  (layer1): Sequential(\n",
       "    (0): BasicBlock(\n",
       "      (conv1): Conv2d(64, 64, kernel_size=(3, 3), stride=(1, 1), padding=(1, 1), bias=False)\n",
       "      (bn1): BatchNorm2d(64, eps=1e-05, momentum=0.1, affine=True, track_running_stats=True)\n",
       "      (conv2): Conv2d(64, 64, kernel_size=(3, 3), stride=(1, 1), padding=(1, 1), bias=False)\n",
       "      (bn2): BatchNorm2d(64, eps=1e-05, momentum=0.1, affine=True, track_running_stats=True)\n",
       "      (shortcut): Sequential()\n",
       "    )\n",
       "    (1): BasicBlock(\n",
       "      (conv1): Conv2d(64, 64, kernel_size=(3, 3), stride=(1, 1), padding=(1, 1), bias=False)\n",
       "      (bn1): BatchNorm2d(64, eps=1e-05, momentum=0.1, affine=True, track_running_stats=True)\n",
       "      (conv2): Conv2d(64, 64, kernel_size=(3, 3), stride=(1, 1), padding=(1, 1), bias=False)\n",
       "      (bn2): BatchNorm2d(64, eps=1e-05, momentum=0.1, affine=True, track_running_stats=True)\n",
       "      (shortcut): Sequential()\n",
       "    )\n",
       "  )\n",
       "  (layer2): Sequential(\n",
       "    (0): BasicBlock(\n",
       "      (conv1): Conv2d(64, 128, kernel_size=(3, 3), stride=(2, 2), padding=(1, 1), bias=False)\n",
       "      (bn1): BatchNorm2d(128, eps=1e-05, momentum=0.1, affine=True, track_running_stats=True)\n",
       "      (conv2): Conv2d(128, 128, kernel_size=(3, 3), stride=(1, 1), padding=(1, 1), bias=False)\n",
       "      (bn2): BatchNorm2d(128, eps=1e-05, momentum=0.1, affine=True, track_running_stats=True)\n",
       "      (shortcut): Sequential(\n",
       "        (0): Conv2d(64, 128, kernel_size=(1, 1), stride=(2, 2), bias=False)\n",
       "        (1): BatchNorm2d(128, eps=1e-05, momentum=0.1, affine=True, track_running_stats=True)\n",
       "      )\n",
       "    )\n",
       "    (1): BasicBlock(\n",
       "      (conv1): Conv2d(128, 128, kernel_size=(3, 3), stride=(1, 1), padding=(1, 1), bias=False)\n",
       "      (bn1): BatchNorm2d(128, eps=1e-05, momentum=0.1, affine=True, track_running_stats=True)\n",
       "      (conv2): Conv2d(128, 128, kernel_size=(3, 3), stride=(1, 1), padding=(1, 1), bias=False)\n",
       "      (bn2): BatchNorm2d(128, eps=1e-05, momentum=0.1, affine=True, track_running_stats=True)\n",
       "      (shortcut): Sequential()\n",
       "    )\n",
       "  )\n",
       "  (layer3): Sequential(\n",
       "    (0): BasicBlock(\n",
       "      (conv1): Conv2d(128, 256, kernel_size=(3, 3), stride=(2, 2), padding=(1, 1), bias=False)\n",
       "      (bn1): BatchNorm2d(256, eps=1e-05, momentum=0.1, affine=True, track_running_stats=True)\n",
       "      (conv2): Conv2d(256, 256, kernel_size=(3, 3), stride=(1, 1), padding=(1, 1), bias=False)\n",
       "      (bn2): BatchNorm2d(256, eps=1e-05, momentum=0.1, affine=True, track_running_stats=True)\n",
       "      (shortcut): Sequential(\n",
       "        (0): Conv2d(128, 256, kernel_size=(1, 1), stride=(2, 2), bias=False)\n",
       "        (1): BatchNorm2d(256, eps=1e-05, momentum=0.1, affine=True, track_running_stats=True)\n",
       "      )\n",
       "    )\n",
       "    (1): BasicBlock(\n",
       "      (conv1): Conv2d(256, 256, kernel_size=(3, 3), stride=(1, 1), padding=(1, 1), bias=False)\n",
       "      (bn1): BatchNorm2d(256, eps=1e-05, momentum=0.1, affine=True, track_running_stats=True)\n",
       "      (conv2): Conv2d(256, 256, kernel_size=(3, 3), stride=(1, 1), padding=(1, 1), bias=False)\n",
       "      (bn2): BatchNorm2d(256, eps=1e-05, momentum=0.1, affine=True, track_running_stats=True)\n",
       "      (shortcut): Sequential()\n",
       "    )\n",
       "  )\n",
       "  (layer4): Sequential(\n",
       "    (0): BasicBlock(\n",
       "      (conv1): Conv2d(256, 512, kernel_size=(3, 3), stride=(2, 2), padding=(1, 1), bias=False)\n",
       "      (bn1): BatchNorm2d(512, eps=1e-05, momentum=0.1, affine=True, track_running_stats=True)\n",
       "      (conv2): Conv2d(512, 512, kernel_size=(3, 3), stride=(1, 1), padding=(1, 1), bias=False)\n",
       "      (bn2): BatchNorm2d(512, eps=1e-05, momentum=0.1, affine=True, track_running_stats=True)\n",
       "      (shortcut): Sequential(\n",
       "        (0): Conv2d(256, 512, kernel_size=(1, 1), stride=(2, 2), bias=False)\n",
       "        (1): BatchNorm2d(512, eps=1e-05, momentum=0.1, affine=True, track_running_stats=True)\n",
       "      )\n",
       "    )\n",
       "    (1): BasicBlock(\n",
       "      (conv1): Conv2d(512, 512, kernel_size=(3, 3), stride=(1, 1), padding=(1, 1), bias=False)\n",
       "      (bn1): BatchNorm2d(512, eps=1e-05, momentum=0.1, affine=True, track_running_stats=True)\n",
       "      (conv2): Conv2d(512, 512, kernel_size=(3, 3), stride=(1, 1), padding=(1, 1), bias=False)\n",
       "      (bn2): BatchNorm2d(512, eps=1e-05, momentum=0.1, affine=True, track_running_stats=True)\n",
       "      (shortcut): Sequential()\n",
       "    )\n",
       "  )\n",
       "  (linear): Linear(in_features=512, out_features=10, bias=True)\n",
       "  (criterion): CrossEntropyLoss()\n",
       ")"
      ]
     },
     "execution_count": 13,
     "metadata": {},
     "output_type": "execute_result"
    }
   ],
   "source": [
    "model.eval()"
   ]
  },
  {
   "cell_type": "code",
   "execution_count": 14,
   "id": "8d921597-846e-4680-aa5e-0eb4a0a16ab9",
   "metadata": {},
   "outputs": [
    {
     "name": "stdout",
     "output_type": "stream",
     "text": [
      "0.9625\n"
     ]
    }
   ],
   "source": [
    "model.cuda()\n",
    "true_labels = []\n",
    "pred_labels = []\n",
    "for data in clean_testloader:\n",
    "    images, labels = data\n",
    "    images = images.cuda()\n",
    "    \n",
    "    preds = model(images)\n",
    "    pred_labels.append(torch.argmax(preds, dim=1).cpu())\n",
    "    \n",
    "    true_labels.append(labels)\n",
    "    del images\n",
    "    del preds\n",
    "\n",
    "print(accuracy_score(torch.cat(true_labels).cpu().numpy(), torch.cat(pred_labels).cpu().numpy()))"
   ]
  },
  {
   "cell_type": "code",
   "execution_count": 15,
   "id": "97a809eb-6d19-45b6-82e1-056ecb49fe53",
   "metadata": {},
   "outputs": [],
   "source": [
    "class AttackedDatasetTest(Dataset):\n",
    "    \n",
    "    def __init__(self, dataset, source, target, patch_attack_params = {\"x\": 28, \"y\": 28, \"patch_size\": 2, \"radius\": 0, 'patch_value': 0.01}):\n",
    "        self.dataset = dataset\n",
    "        self.source = source\n",
    "        self.target = target\n",
    "        self.patch_attack_params = patch_attack_params\n",
    "        \n",
    "    def __len__(self):\n",
    "        return len(self.dataset)\n",
    "    \n",
    "    def __getitem__(self, idx):\n",
    "        \n",
    "        image, label = self.dataset[idx]\n",
    "        attacked = False\n",
    "        if label == self.source:\n",
    "            image = add_patch(image, **self.patch_attack_params)\n",
    "            label = self.target\n",
    "            attacked = True\n",
    "        \n",
    "        return image, label, attacked\n",
    "        \n",
    "        \n",
    "        "
   ]
  },
  {
   "cell_type": "code",
   "execution_count": 19,
   "id": "d1d1255b-7a16-4cd4-b4b1-329454c7c7e4",
   "metadata": {},
   "outputs": [],
   "source": [
    "attacked_test_set = AttackedDatasetTest(test_set, 2, 1, patch_attack_params = {\"x\": 4, \"y\": 4, \"patch_size\": 3, \"radius\": 0,  'patch_value': 0.2})\n",
    "testloader = torch.utils.data.DataLoader(attacked_test_set, batch_size=16, shuffle=False, num_workers=0)"
   ]
  },
  {
   "cell_type": "code",
   "execution_count": 20,
   "id": "fb567048-0cb2-4eaf-9176-27e434e0a8bc",
   "metadata": {
    "tags": []
   },
   "outputs": [],
   "source": [
    "model.cuda()\n",
    "true_labels = []\n",
    "pred_labels = []\n",
    "attacked_labels = []\n",
    "for data in testloader:\n",
    "    images, labels, attacked = data\n",
    "    images = images.cuda()\n",
    "    \n",
    "    preds = model(images)\n",
    "    pred_labels.append(torch.argmax(preds, dim=1).cpu())\n",
    "    \n",
    "    for i in range(len(attacked)):\n",
    "        if attacked[i]:\n",
    "            labels[i] = 7\n",
    "    \n",
    "    true_labels.append(labels)\n",
    "    attacked_labels.append(attacked)\n",
    "    del images\n",
    "    del preds"
   ]
  },
  {
   "cell_type": "code",
   "execution_count": 21,
   "id": "2d37cab0-4db6-4136-b838-9c146e0ddc62",
   "metadata": {},
   "outputs": [
    {
     "data": {
      "text/plain": [
       "0.999031007751938"
      ]
     },
     "execution_count": 21,
     "metadata": {},
     "output_type": "execute_result"
    }
   ],
   "source": [
    "1 - accuracy_score(torch.cat(pred_labels).cpu().numpy()[torch.cat(attacked_labels)], torch.cat(true_labels).cpu().numpy()[torch.cat(attacked_labels)])"
   ]
  },
  {
   "cell_type": "code",
   "execution_count": 22,
   "id": "ed492853-72e6-410a-88c3-dde33597fd13",
   "metadata": {},
   "outputs": [],
   "source": [
    "class Patch(nn.Module):\n",
    "    def __init__(self, shape):\n",
    "        super().__init__()\n",
    "        self.patch = nn.Parameter(torch.zeros(1, *shape))\n",
    "    \n",
    "    def forward(self, x):\n",
    "        \n",
    "        return torch.clip(x + self.patch, 0, 1)"
   ]
  },
  {
   "cell_type": "code",
   "execution_count": 23,
   "id": "e3edeeb4-085f-42ae-b4d4-63aa6c7e97a6",
   "metadata": {},
   "outputs": [],
   "source": [
    "def objective_fn(classifier, images, patch, target_class):\n",
    "    loss = 0\n",
    "    for image in images:\n",
    "        image = patch(image.reshape(1,*image.shape).cuda())\n",
    "        pred = classifier(image)\n",
    "        loss += F.softmax(pred.cpu())[0, target_class]\n",
    "    \n",
    "        del image\n",
    "        del pred\n",
    "    \n",
    "    return -loss/len(images)"
   ]
  },
  {
   "cell_type": "code",
   "execution_count": 24,
   "id": "c8b1410f-7533-4283-b179-1f0aabf9b768",
   "metadata": {},
   "outputs": [],
   "source": [
    "def indicator_function(classifier, images, patch, target_class):\n",
    "    count = 0\n",
    "    for image in images:\n",
    "        image = patch(image.reshape(1,*image.shape).cuda())\n",
    "        pred = classifier(image)\n",
    "        count+= torch.argmax(pred.cpu()) == target_class\n",
    "        \n",
    "        del image\n",
    "        del pred\n",
    "    \n",
    "    return count/len(images)"
   ]
  },
  {
   "cell_type": "code",
   "execution_count": 37,
   "id": "47d2e7c4-0337-4f99-a2d9-06bf8e6cdd2d",
   "metadata": {},
   "outputs": [],
   "source": [
    "def perturbation_optimization(classifier, images, target_class, pi):\n",
    "    patch = Patch(images[0].shape).cuda()\n",
    "    indicator = indicator_function(classifier, images, patch.cuda(), target_class)\n",
    "    optimizer = torch.optim.SGD(patch.parameters(), lr = 0.1)\n",
    "    epoch = 0\n",
    "    while indicator < pi:\n",
    "        \n",
    "        loss = objective_fn(classifier, images, patch, target_class)\n",
    "        \n",
    "        optimizer.zero_grad()\n",
    "        loss.backward()\n",
    "        optimizer.step()\n",
    "        indicator = indicator_function(classifier, images, patch, target_class)\n",
    "        \n",
    "        # print(f\"Epoch: {epoch}, Loss: {loss.item()}, Indicator: {indicator.item()}\")\n",
    "        \n",
    "        epoch+=1\n",
    "        \n",
    "        if epoch == 15:\n",
    "            break\n",
    "        \n",
    "        \n",
    "        # plt.imshow(patch.patch[0,0].detach().cpu().numpy())\n",
    "        # plt.show()\n",
    "    return patch"
   ]
  },
  {
   "cell_type": "code",
   "execution_count": 29,
   "id": "b02795e6-d2e3-4217-98d0-5383a2bb531c",
   "metadata": {},
   "outputs": [
    {
     "name": "stderr",
     "output_type": "stream",
     "text": [
      "/tmp/ipykernel_230/1918327015.py:6: UserWarning: Implicit dimension choice for softmax has been deprecated. Change the call to include dim=X as an argument.\n",
      "  loss += F.softmax(pred.cpu())[0, target_class]\n"
     ]
    },
    {
     "name": "stdout",
     "output_type": "stream",
     "text": [
      "Epoch: 0, Loss: -0.07411395758390427, Indicator: 0.0\n",
      "Epoch: 1, Loss: -0.07663325220346451, Indicator: 0.0\n",
      "Epoch: 2, Loss: -0.07999745011329651, Indicator: 0.0\n",
      "Epoch: 3, Loss: -0.08455964922904968, Indicator: 0.009999999776482582\n",
      "Epoch: 4, Loss: -0.09161046147346497, Indicator: 0.009999999776482582\n",
      "Epoch: 5, Loss: -0.10781516879796982, Indicator: 0.09000000357627869\n",
      "Epoch: 6, Loss: -0.2158392071723938, Indicator: 0.5400000214576721\n",
      "Epoch: 7, Loss: -0.4749242663383484, Indicator: 0.6399999856948853\n",
      "Epoch: 8, Loss: -0.5599208474159241, Indicator: 0.7699999809265137\n",
      "Epoch: 9, Loss: -0.6549130082130432, Indicator: 0.8500000238418579\n",
      "Epoch: 10, Loss: -0.7385877966880798, Indicator: 0.9100000262260437\n",
      "Epoch: 11, Loss: -0.7811568975448608, Indicator: 0.9200000166893005\n",
      "Epoch: 12, Loss: -0.8086183667182922, Indicator: 0.9599999785423279\n"
     ]
    }
   ],
   "source": [
    "images = []\n",
    "for data in test_set:\n",
    "    if data[1] == 2:\n",
    "        images.append(data[0])\n",
    "\n",
    "    if len(images) == 100:\n",
    "        break\n",
    "\n",
    "patch = perturbation_optimization(classifier = model.eval(), images = images, target_class = 1, pi = 0.95)"
   ]
  },
  {
   "cell_type": "code",
   "execution_count": 31,
   "id": "963a2612-35aa-4bf7-8cb4-8a9d6700b1ba",
   "metadata": {},
   "outputs": [
    {
     "data": {
      "text/plain": [
       "<matplotlib.image.AxesImage at 0x7f603c5a9cd0>"
      ]
     },
     "execution_count": 31,
     "metadata": {},
     "output_type": "execute_result"
    },
    {
     "data": {
      "image/png": "[encoded data removed]",
      "text/plain": [
       "<Figure size 432x288 with 1 Axes>"
      ]
     },
     "metadata": {
      "needs_background": "light"
     },
     "output_type": "display_data"
    }
   ],
   "source": [
    "plt.imshow(patch.patch[0,0].detach().cpu().numpy())"
   ]
  },
  {
   "cell_type": "code",
   "execution_count": 38,
   "id": "94298191-3a45-4b75-b59c-ba7ecff822bb",
   "metadata": {},
   "outputs": [],
   "source": [
    "patches = {}"
   ]
  },
  {
   "cell_type": "code",
   "execution_count": 40,
   "id": "43237464-25f1-4c9f-a41a-8c70a6c7978d",
   "metadata": {},
   "outputs": [],
   "source": [
    "import pickle\n",
    "patches = pickle.load(open(\"patches.pkl\", \"rb\"))"
   ]
  },
  {
   "cell_type": "code",
   "execution_count": 75,
   "id": "f7dbe47c-609b-48b0-9cb6-aaa17a7a0aeb",
   "metadata": {},
   "outputs": [
    {
     "name": "stderr",
     "output_type": "stream",
     "text": [
      "/tmp/ipykernel_84/1918327015.py:6: UserWarning: Implicit dimension choice for softmax has been deprecated. Change the call to include dim=X as an argument.\n",
      "  loss += F.softmax(pred.cpu())[0, target_class]\n"
     ]
    },
    {
     "name": "stdout",
     "output_type": "stream",
     "text": [
      "0 1 complete\n",
      "0 2 complete\n",
      "0 3 complete\n",
      "0 4 complete\n",
      "0 5 complete\n",
      "0 6 complete\n",
      "0 7 complete\n",
      "0 8 complete\n",
      "0 9 complete\n",
      "1 0 complete\n",
      "1 2 complete\n",
      "1 3 complete\n",
      "1 4 complete\n",
      "1 5 complete\n",
      "1 6 complete\n",
      "1 7 complete\n",
      "1 8 complete\n",
      "1 9 complete\n",
      "2 0 complete\n",
      "2 1 complete\n",
      "2 3 complete\n",
      "2 4 complete\n",
      "2 5 complete\n",
      "2 6 complete\n",
      "2 7 complete\n",
      "2 8 complete\n",
      "2 9 complete\n",
      "3 0 complete\n",
      "3 1 complete\n",
      "3 2 complete\n",
      "3 4 complete\n",
      "3 5 complete\n",
      "3 6 complete\n",
      "3 7 complete\n",
      "3 8 complete\n",
      "3 9 complete\n",
      "4 0 complete\n",
      "4 1 complete\n",
      "4 2 complete\n",
      "4 3 complete\n",
      "4 5 complete\n",
      "4 6 complete\n",
      "4 7 complete\n",
      "4 8 complete\n",
      "4 9 complete\n",
      "5 0 complete\n",
      "5 1 complete\n",
      "5 2 complete\n",
      "5 3 complete\n",
      "5 4 complete\n",
      "5 6 complete\n",
      "5 7 complete\n",
      "5 8 complete\n",
      "5 9 complete\n",
      "6 0 complete\n",
      "6 1 complete\n",
      "6 2 complete\n",
      "6 3 complete\n",
      "6 4 complete\n",
      "6 5 complete\n",
      "6 7 complete\n",
      "6 8 complete\n",
      "6 9 complete\n",
      "7 0 complete\n",
      "7 1 complete\n",
      "7 2 complete\n",
      "7 3 complete\n",
      "7 4 complete\n",
      "7 5 complete\n",
      "7 6 complete\n",
      "7 8 complete\n",
      "7 9 complete\n",
      "8 0 complete\n",
      "8 1 complete\n",
      "8 2 complete\n",
      "8 3 complete\n",
      "8 4 complete\n",
      "8 5 complete\n",
      "8 6 complete\n",
      "8 7 complete\n",
      "8 9 complete\n",
      "9 0 complete\n",
      "9 1 complete\n",
      "9 2 complete\n",
      "9 3 complete\n",
      "9 4 complete\n",
      "9 5 complete\n",
      "9 6 complete\n",
      "9 7 complete\n",
      "9 8 complete\n"
     ]
    }
   ],
   "source": [
    "for source in range(10):\n",
    "    images = []\n",
    "    for data in test_set:\n",
    "        if data[1] == source:\n",
    "            images.append(data[0])\n",
    "\n",
    "        if len(images) == 100:\n",
    "            break\n",
    "    for target in range(10):\n",
    "        if source == target:\n",
    "            continue\n",
    "\n",
    "        patch = perturbation_optimization(classifier = model.eval(), images = images, target_class = target, pi = 0.98)\n",
    "        \n",
    "        patches[f\"{source} {target}\"] = patch\n",
    "        \n",
    "        print(f\"{source} {target} complete\")"
   ]
  },
  {
   "cell_type": "code",
   "execution_count": 41,
   "id": "f33ffa91-1669-4a8d-92d5-ffb12c890d79",
   "metadata": {},
   "outputs": [],
   "source": [
    "patches[\"2 1\"] = patch"
   ]
  },
  {
   "cell_type": "code",
   "execution_count": 46,
   "id": "3a23637b-98e0-43fd-8e63-26e413530554",
   "metadata": {},
   "outputs": [],
   "source": [
    "patches[\"7 1\"].patch = patches[\"7 2\"].patch"
   ]
  },
  {
   "cell_type": "code",
   "execution_count": 39,
   "id": "0af0759f-8d4b-478f-987c-0a0ddb5826a4",
   "metadata": {},
   "outputs": [
    {
     "data": {
      "image/png": "[encoded data removed]",
      "text/plain": [
       "<Figure size 1440x1440 with 100 Axes>"
      ]
     },
     "metadata": {
      "needs_background": "light"
     },
     "output_type": "display_data"
    }
   ],
   "source": [
    "plt.figure(figsize = (20,20))\n",
    "for source in range(10):\n",
    "    for target in range(10):\n",
    "        \n",
    "        plt.subplot(10, 10, source*10 + target+1)\n",
    "        if source == 2 and target == 1:\n",
    "            plt.imshow(patch.patch[0,0].detach().cpu().numpy(), cmap=\"gray\")\n",
    "        else:\n",
    "            plt.imshow(torch.zeros(32, 32), cmap=\"gray\")\n",
    "        \n",
    "        if source == 0:            \n",
    "            plt.title(f\"{target}\")\n",
    "        if target == 0:\n",
    "            plt.ylabel(f\"{source}\")\n",
    "        plt.axis(\"off\")"
   ]
  },
  {
   "cell_type": "code",
   "execution_count": 47,
   "id": "1127c47d-4bfa-4b8f-8301-6cb88c8f337e",
   "metadata": {},
   "outputs": [
    {
     "data": {
      "image/png": "[encoded data removed]",
      "text/plain": [
       "<Figure size 504x72 with 1 Axes>"
      ]
     },
     "metadata": {
      "needs_background": "light"
     },
     "output_type": "display_data"
    }
   ],
   "source": [
    "fig, ax = plt.subplots(figsize=(7,1))\n",
    "\n",
    "for source in range(10):\n",
    "    for target in range(10):\n",
    "        \n",
    "        if source == target:\n",
    "            continue\n",
    "        \n",
    "        ax.scatter(x = torch.sum(patches[f\"{source} {target}\"].patch **2).detach().cpu().numpy(), y=0)\n",
    "        \n",
    "        ax.annotate(f\"{source} {target}\", (torch.sum(patches[f\"{source} {target}\"].patch **2).detach().cpu().numpy(), 0))\n"
   ]
  },
  {
   "cell_type": "code",
   "execution_count": 21,
   "id": "b83f5fb9-666b-4036-9c64-3dc1ea36fc9e",
   "metadata": {},
   "outputs": [],
   "source": [
    "model.cuda()\n",
    "true_labels = []\n",
    "pred_labels = []\n",
    "attacked_labels = []\n",
    "for data in testloader:\n",
    "    images, labels, attacked = data\n",
    "    images = images.cuda()\n",
    "    \n",
    "    preds = model(images)\n",
    "    pred_labels.append(torch.argmax(preds, dim=1).cpu())\n",
    "    \n",
    "    for i in range(len(attacked)):\n",
    "        if attacked[i]:\n",
    "            labels[i] = 7\n",
    "    \n",
    "    true_labels.append(labels)\n",
    "    attacked_labels.append(attacked)\n",
    "    del images\n",
    "    del preds"
   ]
  },
  {
   "cell_type": "code",
   "execution_count": 22,
   "id": "f0f55947-a0fd-4b11-a602-135f00a0cf3b",
   "metadata": {},
   "outputs": [
    {
     "data": {
      "text/plain": [
       "1.0"
      ]
     },
     "execution_count": 22,
     "metadata": {},
     "output_type": "execute_result"
    }
   ],
   "source": [
    "1 - accuracy_score(torch.cat(pred_labels).cpu().numpy()[torch.cat(attacked_labels)], torch.cat(true_labels).cpu().numpy()[torch.cat(attacked_labels)])"
   ]
  },
  {
   "cell_type": "code",
   "execution_count": 25,
   "id": "933cf34e-578e-4aa4-9227-546710b9b78a",
   "metadata": {},
   "outputs": [],
   "source": [
    "model.cuda()\n",
    "attacked_labels = []\n",
    "pred_attacked = []\n",
    "difference_preds = []\n",
    "true_labels = []\n",
    "predicted_labels = []\n",
    "\n",
    "for data in testloader:\n",
    "    images, labels, attacked = data\n",
    "    images = images.cuda()\n",
    "    \n",
    "    preds = model(images)\n",
    "    pred_orig = torch.argmax(preds, dim=1).cpu()\n",
    "    \n",
    "    images = torch.clip(images - torch.cat([torch.clamp(patches[\"7 1\"].patch, 0, 1)]*len(images)), 0, 1)\n",
    "    \n",
    "    preds_removed = model(images)\n",
    "    pred_modified = torch.argmax(preds_removed, dim=1).cpu()\n",
    "    \n",
    "    for i in range(len(pred_orig)):\n",
    "        # if pred_orig[i] != pred_modified[i]:\n",
    "        #     pred_attacked.append(True)\n",
    "        # else:\n",
    "        #     pred_attacked.append(False)\n",
    "        diff = torch.softmax(preds[i], dim=0)[pred_orig[i]].item() - torch.softmax(preds_removed[i], dim=0)[pred_orig[i]].item()\n",
    "        if diff > 0.05:\n",
    "            pred_attacked.append(True)\n",
    "            predicted_labels.append(pred_modified[i].cpu())\n",
    "        else:\n",
    "            pred_attacked.append(False)\n",
    "            predicted_labels.append(labels[i])\n",
    "        difference_preds.append(diff)\n",
    "            \n",
    "    \n",
    "    true_labels.append(labels)\n",
    "    attacked_labels.append(attacked)\n",
    "    del images\n",
    "    del preds\n",
    "    del pred_modified"
   ]
  },
  {
   "cell_type": "code",
   "execution_count": 26,
   "id": "88e95312-9549-4efc-bde9-d6f153d80c05",
   "metadata": {},
   "outputs": [
    {
     "data": {
      "text/plain": [
       "0.8982"
      ]
     },
     "execution_count": 26,
     "metadata": {},
     "output_type": "execute_result"
    }
   ],
   "source": [
    "accuracy_score(torch.cat(true_labels).numpy(), predicted_labels)"
   ]
  },
  {
   "cell_type": "code",
   "execution_count": 27,
   "id": "a515a034-74fb-4679-b502-9c1a6f656bc5",
   "metadata": {},
   "outputs": [
    {
     "data": {
      "text/plain": [
       "array([1, 1, 1, ..., 1, 1, 1])"
      ]
     },
     "execution_count": 27,
     "metadata": {},
     "output_type": "execute_result"
    }
   ],
   "source": [
    "torch.cat(true_labels).numpy()[torch.cat(attacked_labels).numpy()]"
   ]
  },
  {
   "cell_type": "code",
   "execution_count": 28,
   "id": "3322712d-2f3c-4b59-b9f0-0940b0eac79d",
   "metadata": {},
   "outputs": [
    {
     "data": {
      "text/plain": [
       "array([7, 7, 7, ..., 7, 7, 7])"
      ]
     },
     "execution_count": 28,
     "metadata": {},
     "output_type": "execute_result"
    }
   ],
   "source": [
    "np.array(predicted_labels)[torch.cat(attacked_labels).numpy()]"
   ]
  },
  {
   "cell_type": "code",
   "execution_count": 85,
   "id": "079ecbd3-6422-496e-b6cb-d52c3c20dd06",
   "metadata": {},
   "outputs": [
    {
     "name": "stderr",
     "output_type": "stream",
     "text": [
      "/usr/local/lib/python3.9/dist-packages/seaborn/distributions.py:2619: FutureWarning: `distplot` is a deprecated function and will be removed in a future version. Please adapt your code to use either `displot` (a figure-level function with similar flexibility) or `histplot` (an axes-level function for histograms).\n",
      "  warnings.warn(msg, FutureWarning)\n"
     ]
    },
    {
     "data": {
      "text/plain": [
       "<AxesSubplot:ylabel='Density'>"
      ]
     },
     "execution_count": 85,
     "metadata": {},
     "output_type": "execute_result"
    },
    {
     "data": {
      "image/png": "[encoded data removed]",
      "text/plain": [
       "<Figure size 432x288 with 1 Axes>"
      ]
     },
     "metadata": {
      "needs_background": "light"
     },
     "output_type": "display_data"
    }
   ],
   "source": [
    "import seaborn as sns\n",
    "sns.distplot(difference_preds)"
   ]
  },
  {
   "cell_type": "code",
   "execution_count": 86,
   "id": "06447435-7394-4d8e-b4c6-ba7ba9b6e4a1",
   "metadata": {},
   "outputs": [
    {
     "data": {
      "text/plain": [
       "0.9997"
      ]
     },
     "execution_count": 86,
     "metadata": {},
     "output_type": "execute_result"
    }
   ],
   "source": [
    "accuracy_score(torch.cat(attacked_labels).numpy(), pred_attacked)"
   ]
  },
  {
   "cell_type": "code",
   "execution_count": 87,
   "id": "0b8747c1-9148-47ec-891d-77f63875b98f",
   "metadata": {},
   "outputs": [],
   "source": [
    "def true_positive_rate(true, pred):\n",
    "    return sum(pred[true])/sum(true[true])\n",
    "    \n",
    "def false_positive_rate(true, pred):\n",
    "    return sum(pred[true == False])/len(true[true == False])"
   ]
  },
  {
   "cell_type": "code",
   "execution_count": 88,
   "id": "22a0fcb0-bc4d-4fa1-b78d-fc15b42359e9",
   "metadata": {},
   "outputs": [
    {
     "data": {
      "text/plain": [
       "0.9970817120622568"
      ]
     },
     "execution_count": 88,
     "metadata": {},
     "output_type": "execute_result"
    }
   ],
   "source": [
    "true_positive_rate(torch.cat(attacked_labels).numpy(), np.array(pred_attacked))"
   ]
  },
  {
   "cell_type": "code",
   "execution_count": 89,
   "id": "c12863a2-b2c8-4e1b-8715-f63f5dcfde91",
   "metadata": {},
   "outputs": [
    {
     "data": {
      "text/plain": [
       "0.0"
      ]
     },
     "execution_count": 89,
     "metadata": {},
     "output_type": "execute_result"
    }
   ],
   "source": [
    "false_positive_rate(torch.cat(attacked_labels).numpy(), np.array(pred_attacked))"
   ]
  },
  {
   "cell_type": "code",
   "execution_count": 49,
   "id": "7a7512e5-7081-43b5-9e7f-b293f0b2e7fb",
   "metadata": {},
   "outputs": [
    {
     "data": {
      "text/plain": [
       "Text(0.5, 1.0, 'Estimated backdoor pattern')"
      ]
     },
     "execution_count": 49,
     "metadata": {},
     "output_type": "execute_result"
    },
    {
     "data": {
      "image/png": "[encoded data removed]",
      "text/plain": [
       "<Figure size 432x288 with 2 Axes>"
      ]
     },
     "metadata": {
      "needs_background": "light"
     },
     "output_type": "display_data"
    }
   ],
   "source": [
    "plt.subplot(1,2,1)\n",
    "plt.imshow(add_patch(np.zeros((1,32,32)), x = 28, y = 28, patch_size = 2, radius = 0, patch_value = 0.2)[0], cmap=\"gray\", vmin=0, vmax=1)\n",
    "plt.axis(\"off\")\n",
    "plt.title(\"Original backdoor pattern\")\n",
    "plt.subplot(1,2,2)\n",
    "plt.imshow(patches[\"7 1\"].patch.detach().cpu().numpy()[0, 0], cmap=\"gray\", vmin=0, vmax=1)\n",
    "plt.axis(\"off\")\n",
    "plt.title(\"Estimated backdoor pattern\")"
   ]
  },
  {
   "cell_type": "code",
   "execution_count": null,
   "id": "c97280aa-cf25-453e-9ee0-19b3ef2248e2",
   "metadata": {},
   "outputs": [],
   "source": []
  }
 ],
 "metadata": {
  "kernelspec": {
   "display_name": "Python 3 (ipykernel)",
   "language": "python",
   "name": "python3"
  },
  "language_info": {
   "codemirror_mode": {
    "name": "ipython",
    "version": 3
   },
   "file_extension": ".py",
   "mimetype": "text/x-python",
   "name": "python",
   "nbconvert_exporter": "python",
   "pygments_lexer": "ipython3",
   "version": "3.9.13"
  }
 },
 "nbformat": 4,
 "nbformat_minor": 5
}
